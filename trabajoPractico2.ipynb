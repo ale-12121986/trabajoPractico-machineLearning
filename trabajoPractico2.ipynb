{
  "cells": [
    {
      "cell_type": "code",
      "execution_count": null,
      "metadata": {
        "id": "IbuS1HT8DP5a"
      },
      "outputs": [],
      "source": [
        "import pandas as pd\n",
        "import numpy as np\n",
        "import matplotlib.pyplot as plt\n",
        "import seaborn as sns\n",
        "sns.set()"
      ]
    },
    {
      "cell_type": "markdown",
      "metadata": {
        "id": "0oR4uyIXDP5b"
      },
      "source": [
        "# Ejercicio de clasificación para entregar\n",
        "\n",
        "Vamos a trabajar con el dataset de vinos proveniente de [Kaggle](https://www.kaggle.com/datasets/rakeshrau/social-network-ads). El dataset contiene proviene con datos de campaña de publicidad en una red social. Se cuenta con variables de los usuarios que tuvieron sujetos a la campaña. Se busca poder predecir dado un usuario con datos socioseconomicos si va a comprar o no el producto.\n",
        "\n",
        "OBS: Completar las celdas vacias o las que estan incompletas si se observa `____` es para que completen."
      ]
    },
    {
      "cell_type": "code",
      "execution_count": null,
      "metadata": {
        "id": "qAnu6PYXDP5c"
      },
      "outputs": [],
      "source": [
        "# Leemos el dataset\n",
        "social_df = pd.read_csv(\"Social_Network_Ads.csv\")"
      ]
    },
    {
      "cell_type": "markdown",
      "metadata": {
        "id": "07xmTLc8DP5c"
      },
      "source": [
        "Vamos realizando los diferentes puntos pedidos en el ejercicio.\n",
        "\n",
        "1. Lea el dataset como un DataFrame de Pandas. Realice un estudio de variables. Como se llaman y que están midiendo exactamente. Además, analice que tipo de variables son, cuál es el rango de estas variables y cómo se distribuyen (histograma)."
      ]
    },
    {
      "cell_type": "markdown",
      "metadata": {
        "id": "DD25Q7DTDP5c"
      },
      "source": [
        "Vemos las primeras cinco filas del dataset"
      ]
    },
    {
      "cell_type": "code",
      "execution_count": null,
      "metadata": {
        "colab": {
          "base_uri": "https://localhost:8080/",
          "height": 206
        },
        "id": "zJ6euK87DP5c",
        "outputId": "327335b2-436d-4bf4-d813-4b63fe95f96a"
      },
      "outputs": [
        {
          "output_type": "execute_result",
          "data": {
            "text/plain": [
              "    User ID  Gender   Age  EstimatedSalary  Purchased\n",
              "0  15624510    Male  19.0          19000.0          0\n",
              "1  15810944    Male  35.0          20000.0          0\n",
              "2  15668575  Female  26.0          43000.0          0\n",
              "3  15603246  Female  27.0          57000.0          0\n",
              "4  15804002    Male  19.0          76000.0          0"
            ],
            "text/html": [
              "\n",
              "  <div id=\"df-b006254f-2dc0-4d91-b223-eeb26315129c\" class=\"colab-df-container\">\n",
              "    <div>\n",
              "<style scoped>\n",
              "    .dataframe tbody tr th:only-of-type {\n",
              "        vertical-align: middle;\n",
              "    }\n",
              "\n",
              "    .dataframe tbody tr th {\n",
              "        vertical-align: top;\n",
              "    }\n",
              "\n",
              "    .dataframe thead th {\n",
              "        text-align: right;\n",
              "    }\n",
              "</style>\n",
              "<table border=\"1\" class=\"dataframe\">\n",
              "  <thead>\n",
              "    <tr style=\"text-align: right;\">\n",
              "      <th></th>\n",
              "      <th>User ID</th>\n",
              "      <th>Gender</th>\n",
              "      <th>Age</th>\n",
              "      <th>EstimatedSalary</th>\n",
              "      <th>Purchased</th>\n",
              "    </tr>\n",
              "  </thead>\n",
              "  <tbody>\n",
              "    <tr>\n",
              "      <th>0</th>\n",
              "      <td>15624510</td>\n",
              "      <td>Male</td>\n",
              "      <td>19.0</td>\n",
              "      <td>19000.0</td>\n",
              "      <td>0</td>\n",
              "    </tr>\n",
              "    <tr>\n",
              "      <th>1</th>\n",
              "      <td>15810944</td>\n",
              "      <td>Male</td>\n",
              "      <td>35.0</td>\n",
              "      <td>20000.0</td>\n",
              "      <td>0</td>\n",
              "    </tr>\n",
              "    <tr>\n",
              "      <th>2</th>\n",
              "      <td>15668575</td>\n",
              "      <td>Female</td>\n",
              "      <td>26.0</td>\n",
              "      <td>43000.0</td>\n",
              "      <td>0</td>\n",
              "    </tr>\n",
              "    <tr>\n",
              "      <th>3</th>\n",
              "      <td>15603246</td>\n",
              "      <td>Female</td>\n",
              "      <td>27.0</td>\n",
              "      <td>57000.0</td>\n",
              "      <td>0</td>\n",
              "    </tr>\n",
              "    <tr>\n",
              "      <th>4</th>\n",
              "      <td>15804002</td>\n",
              "      <td>Male</td>\n",
              "      <td>19.0</td>\n",
              "      <td>76000.0</td>\n",
              "      <td>0</td>\n",
              "    </tr>\n",
              "  </tbody>\n",
              "</table>\n",
              "</div>\n",
              "    <div class=\"colab-df-buttons\">\n",
              "\n",
              "  <div class=\"colab-df-container\">\n",
              "    <button class=\"colab-df-convert\" onclick=\"convertToInteractive('df-b006254f-2dc0-4d91-b223-eeb26315129c')\"\n",
              "            title=\"Convert this dataframe to an interactive table.\"\n",
              "            style=\"display:none;\">\n",
              "\n",
              "  <svg xmlns=\"http://www.w3.org/2000/svg\" height=\"24px\" viewBox=\"0 -960 960 960\">\n",
              "    <path d=\"M120-120v-720h720v720H120Zm60-500h600v-160H180v160Zm220 220h160v-160H400v160Zm0 220h160v-160H400v160ZM180-400h160v-160H180v160Zm440 0h160v-160H620v160ZM180-180h160v-160H180v160Zm440 0h160v-160H620v160Z\"/>\n",
              "  </svg>\n",
              "    </button>\n",
              "\n",
              "  <style>\n",
              "    .colab-df-container {\n",
              "      display:flex;\n",
              "      gap: 12px;\n",
              "    }\n",
              "\n",
              "    .colab-df-convert {\n",
              "      background-color: #E8F0FE;\n",
              "      border: none;\n",
              "      border-radius: 50%;\n",
              "      cursor: pointer;\n",
              "      display: none;\n",
              "      fill: #1967D2;\n",
              "      height: 32px;\n",
              "      padding: 0 0 0 0;\n",
              "      width: 32px;\n",
              "    }\n",
              "\n",
              "    .colab-df-convert:hover {\n",
              "      background-color: #E2EBFA;\n",
              "      box-shadow: 0px 1px 2px rgba(60, 64, 67, 0.3), 0px 1px 3px 1px rgba(60, 64, 67, 0.15);\n",
              "      fill: #174EA6;\n",
              "    }\n",
              "\n",
              "    .colab-df-buttons div {\n",
              "      margin-bottom: 4px;\n",
              "    }\n",
              "\n",
              "    [theme=dark] .colab-df-convert {\n",
              "      background-color: #3B4455;\n",
              "      fill: #D2E3FC;\n",
              "    }\n",
              "\n",
              "    [theme=dark] .colab-df-convert:hover {\n",
              "      background-color: #434B5C;\n",
              "      box-shadow: 0px 1px 3px 1px rgba(0, 0, 0, 0.15);\n",
              "      filter: drop-shadow(0px 1px 2px rgba(0, 0, 0, 0.3));\n",
              "      fill: #FFFFFF;\n",
              "    }\n",
              "  </style>\n",
              "\n",
              "    <script>\n",
              "      const buttonEl =\n",
              "        document.querySelector('#df-b006254f-2dc0-4d91-b223-eeb26315129c button.colab-df-convert');\n",
              "      buttonEl.style.display =\n",
              "        google.colab.kernel.accessAllowed ? 'block' : 'none';\n",
              "\n",
              "      async function convertToInteractive(key) {\n",
              "        const element = document.querySelector('#df-b006254f-2dc0-4d91-b223-eeb26315129c');\n",
              "        const dataTable =\n",
              "          await google.colab.kernel.invokeFunction('convertToInteractive',\n",
              "                                                    [key], {});\n",
              "        if (!dataTable) return;\n",
              "\n",
              "        const docLinkHtml = 'Like what you see? Visit the ' +\n",
              "          '<a target=\"_blank\" href=https://colab.research.google.com/notebooks/data_table.ipynb>data table notebook</a>'\n",
              "          + ' to learn more about interactive tables.';\n",
              "        element.innerHTML = '';\n",
              "        dataTable['output_type'] = 'display_data';\n",
              "        await google.colab.output.renderOutput(dataTable, element);\n",
              "        const docLink = document.createElement('div');\n",
              "        docLink.innerHTML = docLinkHtml;\n",
              "        element.appendChild(docLink);\n",
              "      }\n",
              "    </script>\n",
              "  </div>\n",
              "\n",
              "\n",
              "<div id=\"df-21e1ba49-c62a-456a-b6e3-1ad29221208c\">\n",
              "  <button class=\"colab-df-quickchart\" onclick=\"quickchart('df-21e1ba49-c62a-456a-b6e3-1ad29221208c')\"\n",
              "            title=\"Suggest charts\"\n",
              "            style=\"display:none;\">\n",
              "\n",
              "<svg xmlns=\"http://www.w3.org/2000/svg\" height=\"24px\"viewBox=\"0 0 24 24\"\n",
              "     width=\"24px\">\n",
              "    <g>\n",
              "        <path d=\"M19 3H5c-1.1 0-2 .9-2 2v14c0 1.1.9 2 2 2h14c1.1 0 2-.9 2-2V5c0-1.1-.9-2-2-2zM9 17H7v-7h2v7zm4 0h-2V7h2v10zm4 0h-2v-4h2v4z\"/>\n",
              "    </g>\n",
              "</svg>\n",
              "  </button>\n",
              "\n",
              "<style>\n",
              "  .colab-df-quickchart {\n",
              "      --bg-color: #E8F0FE;\n",
              "      --fill-color: #1967D2;\n",
              "      --hover-bg-color: #E2EBFA;\n",
              "      --hover-fill-color: #174EA6;\n",
              "      --disabled-fill-color: #AAA;\n",
              "      --disabled-bg-color: #DDD;\n",
              "  }\n",
              "\n",
              "  [theme=dark] .colab-df-quickchart {\n",
              "      --bg-color: #3B4455;\n",
              "      --fill-color: #D2E3FC;\n",
              "      --hover-bg-color: #434B5C;\n",
              "      --hover-fill-color: #FFFFFF;\n",
              "      --disabled-bg-color: #3B4455;\n",
              "      --disabled-fill-color: #666;\n",
              "  }\n",
              "\n",
              "  .colab-df-quickchart {\n",
              "    background-color: var(--bg-color);\n",
              "    border: none;\n",
              "    border-radius: 50%;\n",
              "    cursor: pointer;\n",
              "    display: none;\n",
              "    fill: var(--fill-color);\n",
              "    height: 32px;\n",
              "    padding: 0;\n",
              "    width: 32px;\n",
              "  }\n",
              "\n",
              "  .colab-df-quickchart:hover {\n",
              "    background-color: var(--hover-bg-color);\n",
              "    box-shadow: 0 1px 2px rgba(60, 64, 67, 0.3), 0 1px 3px 1px rgba(60, 64, 67, 0.15);\n",
              "    fill: var(--button-hover-fill-color);\n",
              "  }\n",
              "\n",
              "  .colab-df-quickchart-complete:disabled,\n",
              "  .colab-df-quickchart-complete:disabled:hover {\n",
              "    background-color: var(--disabled-bg-color);\n",
              "    fill: var(--disabled-fill-color);\n",
              "    box-shadow: none;\n",
              "  }\n",
              "\n",
              "  .colab-df-spinner {\n",
              "    border: 2px solid var(--fill-color);\n",
              "    border-color: transparent;\n",
              "    border-bottom-color: var(--fill-color);\n",
              "    animation:\n",
              "      spin 1s steps(1) infinite;\n",
              "  }\n",
              "\n",
              "  @keyframes spin {\n",
              "    0% {\n",
              "      border-color: transparent;\n",
              "      border-bottom-color: var(--fill-color);\n",
              "      border-left-color: var(--fill-color);\n",
              "    }\n",
              "    20% {\n",
              "      border-color: transparent;\n",
              "      border-left-color: var(--fill-color);\n",
              "      border-top-color: var(--fill-color);\n",
              "    }\n",
              "    30% {\n",
              "      border-color: transparent;\n",
              "      border-left-color: var(--fill-color);\n",
              "      border-top-color: var(--fill-color);\n",
              "      border-right-color: var(--fill-color);\n",
              "    }\n",
              "    40% {\n",
              "      border-color: transparent;\n",
              "      border-right-color: var(--fill-color);\n",
              "      border-top-color: var(--fill-color);\n",
              "    }\n",
              "    60% {\n",
              "      border-color: transparent;\n",
              "      border-right-color: var(--fill-color);\n",
              "    }\n",
              "    80% {\n",
              "      border-color: transparent;\n",
              "      border-right-color: var(--fill-color);\n",
              "      border-bottom-color: var(--fill-color);\n",
              "    }\n",
              "    90% {\n",
              "      border-color: transparent;\n",
              "      border-bottom-color: var(--fill-color);\n",
              "    }\n",
              "  }\n",
              "</style>\n",
              "\n",
              "  <script>\n",
              "    async function quickchart(key) {\n",
              "      const quickchartButtonEl =\n",
              "        document.querySelector('#' + key + ' button');\n",
              "      quickchartButtonEl.disabled = true;  // To prevent multiple clicks.\n",
              "      quickchartButtonEl.classList.add('colab-df-spinner');\n",
              "      try {\n",
              "        const charts = await google.colab.kernel.invokeFunction(\n",
              "            'suggestCharts', [key], {});\n",
              "      } catch (error) {\n",
              "        console.error('Error during call to suggestCharts:', error);\n",
              "      }\n",
              "      quickchartButtonEl.classList.remove('colab-df-spinner');\n",
              "      quickchartButtonEl.classList.add('colab-df-quickchart-complete');\n",
              "    }\n",
              "    (() => {\n",
              "      let quickchartButtonEl =\n",
              "        document.querySelector('#df-21e1ba49-c62a-456a-b6e3-1ad29221208c button');\n",
              "      quickchartButtonEl.style.display =\n",
              "        google.colab.kernel.accessAllowed ? 'block' : 'none';\n",
              "    })();\n",
              "  </script>\n",
              "</div>\n",
              "    </div>\n",
              "  </div>\n"
            ]
          },
          "metadata": {},
          "execution_count": 6
        }
      ],
      "source": [
        "social_df.head(5)"
      ]
    },
    {
      "cell_type": "markdown",
      "metadata": {
        "id": "4OeIejHhDP5d"
      },
      "source": [
        "Los atributos del dataset son:\n",
        "- `User ID`: Cada persona tiene una identificación única a partir de la cual podemos identificarla de forma única.\n",
        "\n",
        "- `Gender`: Es el genero de la persona. El producto puede ser interesante dependiendo del genero.\n",
        "\n",
        "- `Age`: Edad de la persona. Porque el producto puede ser útil solo para algunas edades.\n",
        "\n",
        "- `EstimatedSalary`: Esta columna contiene el salario de una persona, ya que el salario puede afectar las compras de una persona.\n",
        "\n",
        "Y la columna a predecir es:\n",
        "- `Purchased`: Contiene dos números \"0\" o \"1\". '0' significa no comprado y '1' significa comprado."
      ]
    },
    {
      "cell_type": "code",
      "execution_count": null,
      "metadata": {
        "colab": {
          "base_uri": "https://localhost:8080/"
        },
        "id": "5GUztCZkDP5d",
        "outputId": "9436e3aa-e202-44c9-c65f-850737eb82be"
      },
      "outputs": [
        {
          "output_type": "stream",
          "name": "stdout",
          "text": [
            "<class 'pandas.core.frame.DataFrame'>\n",
            "RangeIndex: 400 entries, 0 to 399\n",
            "Data columns (total 5 columns):\n",
            " #   Column           Non-Null Count  Dtype  \n",
            "---  ------           --------------  -----  \n",
            " 0   User ID          400 non-null    int64  \n",
            " 1   Gender           400 non-null    object \n",
            " 2   Age              400 non-null    float64\n",
            " 3   EstimatedSalary  400 non-null    float64\n",
            " 4   Purchased        400 non-null    int64  \n",
            "dtypes: float64(2), int64(2), object(1)\n",
            "memory usage: 15.8+ KB\n"
          ]
        }
      ],
      "source": [
        "# Veamos una descripción de todas las columnas, que tipo de columna es y si hay datos faltantes\n",
        "social_df.info()"
      ]
    },
    {
      "cell_type": "markdown",
      "metadata": {
        "id": "C5ApFcmPDP5d"
      },
      "source": [
        "Tenemos 2 columnas de tipo entero, 2 columnas de tipo flotante y 1 es una columna de strings.\n",
        "\n",
        "No hay datos nulos.\n",
        "\n",
        "La columna User ID es una columna que identifica a los usuarios, en el contexto del objetivo que estamos buscando, no nos sirve, por lo que vamos a eliminarla."
      ]
    },
    {
      "cell_type": "code",
      "execution_count": null,
      "metadata": {
        "id": "bja3AfH1DP5d"
      },
      "outputs": [],
      "source": [
        "social_df.drop(columns=\"User ID\", inplace=True)"
      ]
    },
    {
      "cell_type": "markdown",
      "metadata": {
        "id": "BKd2iTvuDP5d"
      },
      "source": [
        "Veamos ahora la distribución de los datos"
      ]
    },
    {
      "cell_type": "code",
      "execution_count": null,
      "metadata": {
        "id": "LhVzWgDeDP5d",
        "colab": {
          "base_uri": "https://localhost:8080/",
          "height": 206
        },
        "outputId": "1edf035f-a1f2-4f24-981a-794cc6f42902"
      },
      "outputs": [
        {
          "output_type": "execute_result",
          "data": {
            "text/plain": [
              "   Gender   Age  EstimatedSalary  Purchased\n",
              "0    Male  19.0          19000.0          0\n",
              "1    Male  35.0          20000.0          0\n",
              "2  Female  26.0          43000.0          0\n",
              "3  Female  27.0          57000.0          0\n",
              "4    Male  19.0          76000.0          0"
            ],
            "text/html": [
              "\n",
              "  <div id=\"df-b818883e-d6ae-44ee-a922-175277dda6ea\" class=\"colab-df-container\">\n",
              "    <div>\n",
              "<style scoped>\n",
              "    .dataframe tbody tr th:only-of-type {\n",
              "        vertical-align: middle;\n",
              "    }\n",
              "\n",
              "    .dataframe tbody tr th {\n",
              "        vertical-align: top;\n",
              "    }\n",
              "\n",
              "    .dataframe thead th {\n",
              "        text-align: right;\n",
              "    }\n",
              "</style>\n",
              "<table border=\"1\" class=\"dataframe\">\n",
              "  <thead>\n",
              "    <tr style=\"text-align: right;\">\n",
              "      <th></th>\n",
              "      <th>Gender</th>\n",
              "      <th>Age</th>\n",
              "      <th>EstimatedSalary</th>\n",
              "      <th>Purchased</th>\n",
              "    </tr>\n",
              "  </thead>\n",
              "  <tbody>\n",
              "    <tr>\n",
              "      <th>0</th>\n",
              "      <td>Male</td>\n",
              "      <td>19.0</td>\n",
              "      <td>19000.0</td>\n",
              "      <td>0</td>\n",
              "    </tr>\n",
              "    <tr>\n",
              "      <th>1</th>\n",
              "      <td>Male</td>\n",
              "      <td>35.0</td>\n",
              "      <td>20000.0</td>\n",
              "      <td>0</td>\n",
              "    </tr>\n",
              "    <tr>\n",
              "      <th>2</th>\n",
              "      <td>Female</td>\n",
              "      <td>26.0</td>\n",
              "      <td>43000.0</td>\n",
              "      <td>0</td>\n",
              "    </tr>\n",
              "    <tr>\n",
              "      <th>3</th>\n",
              "      <td>Female</td>\n",
              "      <td>27.0</td>\n",
              "      <td>57000.0</td>\n",
              "      <td>0</td>\n",
              "    </tr>\n",
              "    <tr>\n",
              "      <th>4</th>\n",
              "      <td>Male</td>\n",
              "      <td>19.0</td>\n",
              "      <td>76000.0</td>\n",
              "      <td>0</td>\n",
              "    </tr>\n",
              "  </tbody>\n",
              "</table>\n",
              "</div>\n",
              "    <div class=\"colab-df-buttons\">\n",
              "\n",
              "  <div class=\"colab-df-container\">\n",
              "    <button class=\"colab-df-convert\" onclick=\"convertToInteractive('df-b818883e-d6ae-44ee-a922-175277dda6ea')\"\n",
              "            title=\"Convert this dataframe to an interactive table.\"\n",
              "            style=\"display:none;\">\n",
              "\n",
              "  <svg xmlns=\"http://www.w3.org/2000/svg\" height=\"24px\" viewBox=\"0 -960 960 960\">\n",
              "    <path d=\"M120-120v-720h720v720H120Zm60-500h600v-160H180v160Zm220 220h160v-160H400v160Zm0 220h160v-160H400v160ZM180-400h160v-160H180v160Zm440 0h160v-160H620v160ZM180-180h160v-160H180v160Zm440 0h160v-160H620v160Z\"/>\n",
              "  </svg>\n",
              "    </button>\n",
              "\n",
              "  <style>\n",
              "    .colab-df-container {\n",
              "      display:flex;\n",
              "      gap: 12px;\n",
              "    }\n",
              "\n",
              "    .colab-df-convert {\n",
              "      background-color: #E8F0FE;\n",
              "      border: none;\n",
              "      border-radius: 50%;\n",
              "      cursor: pointer;\n",
              "      display: none;\n",
              "      fill: #1967D2;\n",
              "      height: 32px;\n",
              "      padding: 0 0 0 0;\n",
              "      width: 32px;\n",
              "    }\n",
              "\n",
              "    .colab-df-convert:hover {\n",
              "      background-color: #E2EBFA;\n",
              "      box-shadow: 0px 1px 2px rgba(60, 64, 67, 0.3), 0px 1px 3px 1px rgba(60, 64, 67, 0.15);\n",
              "      fill: #174EA6;\n",
              "    }\n",
              "\n",
              "    .colab-df-buttons div {\n",
              "      margin-bottom: 4px;\n",
              "    }\n",
              "\n",
              "    [theme=dark] .colab-df-convert {\n",
              "      background-color: #3B4455;\n",
              "      fill: #D2E3FC;\n",
              "    }\n",
              "\n",
              "    [theme=dark] .colab-df-convert:hover {\n",
              "      background-color: #434B5C;\n",
              "      box-shadow: 0px 1px 3px 1px rgba(0, 0, 0, 0.15);\n",
              "      filter: drop-shadow(0px 1px 2px rgba(0, 0, 0, 0.3));\n",
              "      fill: #FFFFFF;\n",
              "    }\n",
              "  </style>\n",
              "\n",
              "    <script>\n",
              "      const buttonEl =\n",
              "        document.querySelector('#df-b818883e-d6ae-44ee-a922-175277dda6ea button.colab-df-convert');\n",
              "      buttonEl.style.display =\n",
              "        google.colab.kernel.accessAllowed ? 'block' : 'none';\n",
              "\n",
              "      async function convertToInteractive(key) {\n",
              "        const element = document.querySelector('#df-b818883e-d6ae-44ee-a922-175277dda6ea');\n",
              "        const dataTable =\n",
              "          await google.colab.kernel.invokeFunction('convertToInteractive',\n",
              "                                                    [key], {});\n",
              "        if (!dataTable) return;\n",
              "\n",
              "        const docLinkHtml = 'Like what you see? Visit the ' +\n",
              "          '<a target=\"_blank\" href=https://colab.research.google.com/notebooks/data_table.ipynb>data table notebook</a>'\n",
              "          + ' to learn more about interactive tables.';\n",
              "        element.innerHTML = '';\n",
              "        dataTable['output_type'] = 'display_data';\n",
              "        await google.colab.output.renderOutput(dataTable, element);\n",
              "        const docLink = document.createElement('div');\n",
              "        docLink.innerHTML = docLinkHtml;\n",
              "        element.appendChild(docLink);\n",
              "      }\n",
              "    </script>\n",
              "  </div>\n",
              "\n",
              "\n",
              "<div id=\"df-749a8aaf-9c01-45d7-8d4b-f356795a7b84\">\n",
              "  <button class=\"colab-df-quickchart\" onclick=\"quickchart('df-749a8aaf-9c01-45d7-8d4b-f356795a7b84')\"\n",
              "            title=\"Suggest charts\"\n",
              "            style=\"display:none;\">\n",
              "\n",
              "<svg xmlns=\"http://www.w3.org/2000/svg\" height=\"24px\"viewBox=\"0 0 24 24\"\n",
              "     width=\"24px\">\n",
              "    <g>\n",
              "        <path d=\"M19 3H5c-1.1 0-2 .9-2 2v14c0 1.1.9 2 2 2h14c1.1 0 2-.9 2-2V5c0-1.1-.9-2-2-2zM9 17H7v-7h2v7zm4 0h-2V7h2v10zm4 0h-2v-4h2v4z\"/>\n",
              "    </g>\n",
              "</svg>\n",
              "  </button>\n",
              "\n",
              "<style>\n",
              "  .colab-df-quickchart {\n",
              "      --bg-color: #E8F0FE;\n",
              "      --fill-color: #1967D2;\n",
              "      --hover-bg-color: #E2EBFA;\n",
              "      --hover-fill-color: #174EA6;\n",
              "      --disabled-fill-color: #AAA;\n",
              "      --disabled-bg-color: #DDD;\n",
              "  }\n",
              "\n",
              "  [theme=dark] .colab-df-quickchart {\n",
              "      --bg-color: #3B4455;\n",
              "      --fill-color: #D2E3FC;\n",
              "      --hover-bg-color: #434B5C;\n",
              "      --hover-fill-color: #FFFFFF;\n",
              "      --disabled-bg-color: #3B4455;\n",
              "      --disabled-fill-color: #666;\n",
              "  }\n",
              "\n",
              "  .colab-df-quickchart {\n",
              "    background-color: var(--bg-color);\n",
              "    border: none;\n",
              "    border-radius: 50%;\n",
              "    cursor: pointer;\n",
              "    display: none;\n",
              "    fill: var(--fill-color);\n",
              "    height: 32px;\n",
              "    padding: 0;\n",
              "    width: 32px;\n",
              "  }\n",
              "\n",
              "  .colab-df-quickchart:hover {\n",
              "    background-color: var(--hover-bg-color);\n",
              "    box-shadow: 0 1px 2px rgba(60, 64, 67, 0.3), 0 1px 3px 1px rgba(60, 64, 67, 0.15);\n",
              "    fill: var(--button-hover-fill-color);\n",
              "  }\n",
              "\n",
              "  .colab-df-quickchart-complete:disabled,\n",
              "  .colab-df-quickchart-complete:disabled:hover {\n",
              "    background-color: var(--disabled-bg-color);\n",
              "    fill: var(--disabled-fill-color);\n",
              "    box-shadow: none;\n",
              "  }\n",
              "\n",
              "  .colab-df-spinner {\n",
              "    border: 2px solid var(--fill-color);\n",
              "    border-color: transparent;\n",
              "    border-bottom-color: var(--fill-color);\n",
              "    animation:\n",
              "      spin 1s steps(1) infinite;\n",
              "  }\n",
              "\n",
              "  @keyframes spin {\n",
              "    0% {\n",
              "      border-color: transparent;\n",
              "      border-bottom-color: var(--fill-color);\n",
              "      border-left-color: var(--fill-color);\n",
              "    }\n",
              "    20% {\n",
              "      border-color: transparent;\n",
              "      border-left-color: var(--fill-color);\n",
              "      border-top-color: var(--fill-color);\n",
              "    }\n",
              "    30% {\n",
              "      border-color: transparent;\n",
              "      border-left-color: var(--fill-color);\n",
              "      border-top-color: var(--fill-color);\n",
              "      border-right-color: var(--fill-color);\n",
              "    }\n",
              "    40% {\n",
              "      border-color: transparent;\n",
              "      border-right-color: var(--fill-color);\n",
              "      border-top-color: var(--fill-color);\n",
              "    }\n",
              "    60% {\n",
              "      border-color: transparent;\n",
              "      border-right-color: var(--fill-color);\n",
              "    }\n",
              "    80% {\n",
              "      border-color: transparent;\n",
              "      border-right-color: var(--fill-color);\n",
              "      border-bottom-color: var(--fill-color);\n",
              "    }\n",
              "    90% {\n",
              "      border-color: transparent;\n",
              "      border-bottom-color: var(--fill-color);\n",
              "    }\n",
              "  }\n",
              "</style>\n",
              "\n",
              "  <script>\n",
              "    async function quickchart(key) {\n",
              "      const quickchartButtonEl =\n",
              "        document.querySelector('#' + key + ' button');\n",
              "      quickchartButtonEl.disabled = true;  // To prevent multiple clicks.\n",
              "      quickchartButtonEl.classList.add('colab-df-spinner');\n",
              "      try {\n",
              "        const charts = await google.colab.kernel.invokeFunction(\n",
              "            'suggestCharts', [key], {});\n",
              "      } catch (error) {\n",
              "        console.error('Error during call to suggestCharts:', error);\n",
              "      }\n",
              "      quickchartButtonEl.classList.remove('colab-df-spinner');\n",
              "      quickchartButtonEl.classList.add('colab-df-quickchart-complete');\n",
              "    }\n",
              "    (() => {\n",
              "      let quickchartButtonEl =\n",
              "        document.querySelector('#df-749a8aaf-9c01-45d7-8d4b-f356795a7b84 button');\n",
              "      quickchartButtonEl.style.display =\n",
              "        google.colab.kernel.accessAllowed ? 'block' : 'none';\n",
              "    })();\n",
              "  </script>\n",
              "</div>\n",
              "    </div>\n",
              "  </div>\n"
            ]
          },
          "metadata": {},
          "execution_count": 9
        }
      ],
      "source": [
        "social_df.head()"
      ]
    },
    {
      "cell_type": "markdown",
      "metadata": {
        "id": "g_Z_jkgJDP5d"
      },
      "source": [
        "Veamos los histogramas de los atributos numericos"
      ]
    },
    {
      "cell_type": "code",
      "execution_count": null,
      "metadata": {
        "id": "pcy0BQrPDP5e",
        "colab": {
          "base_uri": "https://localhost:8080/",
          "height": 318
        },
        "outputId": "313dd174-18f8-45b6-9c49-36277e9b467d"
      },
      "outputs": [
        {
          "output_type": "execute_result",
          "data": {
            "text/plain": [
              "[]"
            ]
          },
          "metadata": {},
          "execution_count": 10
        },
        {
          "output_type": "display_data",
          "data": {
            "text/plain": [
              "<Figure size 800x300 with 2 Axes>"
            ],
            "image/png": "[encoded data removed]"
          },
          "metadata": {}
        }
      ],
      "source": [
        "fig, ax = plt.subplots(1, 2, figsize=(8, 3))\n",
        "sns.histplot(data=social_df, x=\"Age\", ax=ax[0], bins=10)\n",
        "sns.histplot(data=social_df, x=\"EstimatedSalary\", ax=ax[1], bins=30)\n",
        "plt.tight_layout()\n",
        "plt.plot()"
      ]
    },
    {
      "cell_type": "markdown",
      "metadata": {
        "id": "iQCsjW2VDP5e"
      },
      "source": [
        "De los histogramas de los atributos, vemos que en edad tenemos una distribución uniforme hasta llegar a aproximadamente los 35 años, ahi estan la mayoria de los usuarios entre 35 y 45, luego tenemos en una distribución uniforme de edades hasta llegar a los 60 pero en menor cantidad de usuarios.\n",
        "\n",
        "Por otro lado, el salario, tenemos una distribución uniforme entre 25000 y 100000 y luego otra en mucho menor tamaño entre 100000 y 150000. Es decir, la mayoria de los usarios ganan entre 25000 y 100000.\n",
        "\n",
        "Veamos la distribución del género:"
      ]
    },
    {
      "cell_type": "code",
      "execution_count": null,
      "metadata": {
        "id": "kPfQZUcEDP5e",
        "colab": {
          "base_uri": "https://localhost:8080/"
        },
        "outputId": "6f1099dc-6535-4048-b3c8-cf83551a6d4c"
      },
      "outputs": [
        {
          "output_type": "execute_result",
          "data": {
            "text/plain": [
              "Female    204\n",
              "Male      196\n",
              "Name: Gender, dtype: int64"
            ]
          },
          "metadata": {},
          "execution_count": 11
        }
      ],
      "source": [
        "social_df[\"Gender\"].value_counts()"
      ]
    },
    {
      "cell_type": "code",
      "execution_count": null,
      "metadata": {
        "id": "ycfewJpODP5e",
        "colab": {
          "base_uri": "https://localhost:8080/",
          "height": 301
        },
        "outputId": "4400c8c6-ec1a-4265-ec67-f07424a16ad7"
      },
      "outputs": [
        {
          "output_type": "display_data",
          "data": {
            "text/plain": [
              "<Figure size 600x300 with 1 Axes>"
            ],
            "image/png": "[encoded data removed]"
          },
          "metadata": {}
        }
      ],
      "source": [
        "fig, ax = plt.subplots(1, 1, figsize=(6, 3))\n",
        "sns.countplot(data=social_df, x=\"Gender\", ax=ax);\n",
        "ax.set_ylabel(\"Cuenta\")\n",
        "plt.tight_layout();"
      ]
    },
    {
      "cell_type": "markdown",
      "metadata": {
        "id": "yv_39HMbDP5e"
      },
      "source": [
        "Vemos que en este dataset tenemos dos generos y estos presentan una distribución bastante pareja\n",
        "\n",
        "2. Genere gráficos de cajas de los diferentes atributos separando por clase (compro o no el producto). Entre los atributos, se observa alguna diferencia en lo gráficos de cajas?"
      ]
    },
    {
      "cell_type": "code",
      "execution_count": null,
      "metadata": {
        "id": "hpMMIqFQDP5e",
        "colab": {
          "base_uri": "https://localhost:8080/",
          "height": 301
        },
        "outputId": "5bb3d54a-3f42-4ebc-ed2e-b0c9cb7800a6"
      },
      "outputs": [
        {
          "output_type": "display_data",
          "data": {
            "text/plain": [
              "<Figure size 600x300 with 1 Axes>"
            ],
            "image/png": "[encoded data removed]"
          },
          "metadata": {}
        }
      ],
      "source": [
        "fig, ax = plt.subplots(1, 1, figsize=(6, 3))\n",
        "sns.barplot(data=social_df, y=\"Purchased\", x=\"Gender\", errorbar=None)\n",
        "ax.set_ylabel(\"Proporción de compra\");\n",
        "plt.tight_layout();"
      ]
    },
    {
      "cell_type": "markdown",
      "metadata": {
        "id": "QXCmF0RhDP5e"
      },
      "source": [
        "Vemos que hay mas mujeres que compran que hombres para esta campaña, aunque la diferencia es muy poca.\n",
        "\n",
        "Vemos el grafico de caja de las demas variables"
      ]
    },
    {
      "cell_type": "code",
      "execution_count": null,
      "metadata": {
        "id": "QC_lyJXlDP5f",
        "colab": {
          "base_uri": "https://localhost:8080/",
          "height": 301
        },
        "outputId": "137a12ba-be7b-45ac-95e0-3726c8c1fa07"
      },
      "outputs": [
        {
          "output_type": "display_data",
          "data": {
            "text/plain": [
              "<Figure size 670x300 with 2 Axes>"
            ],
            "image/png": "[encoded data removed]"
          },
          "metadata": {}
        }
      ],
      "source": [
        "fig, ax = plt.subplots(1, 2, figsize=(6.7, 3))\n",
        "sns.boxplot(data=social_df, x=\"Purchased\", y=\"Age\", ax=ax[0])\n",
        "sns.boxplot(data=social_df, x=\"Purchased\", y=\"EstimatedSalary\", ax=ax[1])\n",
        "plt.tight_layout();"
      ]
    },
    {
      "cell_type": "markdown",
      "metadata": {
        "id": "vW2Ilr_IDP5f"
      },
      "source": [
        "Vemos que la edad es un atributo que marca muy fuerte quien compra o no el producto. Por otro lado, el salario estimado vemos que los que no compran tienen un salario menor y con menos variación."
      ]
    },
    {
      "cell_type": "markdown",
      "metadata": {
        "id": "xDfj60AWDP5f"
      },
      "source": [
        "3. Analize las clases, estan balanceadas, o no? Qué clase nos parece mas importante de las dos?"
      ]
    },
    {
      "cell_type": "code",
      "execution_count": null,
      "metadata": {
        "id": "CIJR4eaMDP5f",
        "colab": {
          "base_uri": "https://localhost:8080/"
        },
        "outputId": "df888bdc-16f8-4351-e163-cc1e7ba74a4e"
      },
      "outputs": [
        {
          "output_type": "execute_result",
          "data": {
            "text/plain": [
              "0    0.6425\n",
              "1    0.3575\n",
              "Name: Purchased, dtype: float64"
            ]
          },
          "metadata": {},
          "execution_count": 15
        }
      ],
      "source": [
        "social_df[\"Purchased\"].value_counts(normalize=True)"
      ]
    },
    {
      "cell_type": "markdown",
      "metadata": {
        "id": "XSGqEzMiDP5f"
      },
      "source": [
        "Un 65% aproximadamente no compro y 35% si compro. Lo cual es una buena distribución, no tenemos un gran desbalance de clases.\n",
        "\n",
        "4. Separe el dataset en entrenamiento y validación. Utilice 70%-30%.\n",
        "\n",
        "Previo a esto vamos a transformar a la variable genero en numerica usando codificación dummy"
      ]
    },
    {
      "cell_type": "code",
      "execution_count": null,
      "metadata": {
        "id": "LBQTf5giDP5f"
      },
      "outputs": [],
      "source": [
        "social_df =pd.get_dummies(social_df, columns=[\"Gender\"], drop_first=True)\n",
        "# Reacomodamos la columna para dejar al final el target\n",
        "# Esto no es obligatorio pero deja mas prolijo a nuestro dataset.\n",
        "social_df = social_df[['Age', 'EstimatedSalary', 'Gender_Male', 'Purchased']]"
      ]
    },
    {
      "cell_type": "code",
      "execution_count": null,
      "metadata": {
        "id": "3mJuDbkkDP5f",
        "colab": {
          "base_uri": "https://localhost:8080/"
        },
        "outputId": "4e0afc64-b0df-4142-8bf6-42d417dfab62"
      },
      "outputs": [
        {
          "output_type": "stream",
          "name": "stdout",
          "text": [
            "La forma de X es (400, 3)\n",
            "La forma de y es (400,)\n"
          ]
        }
      ],
      "source": [
        "# Obtenemos a X e y. Recordar que X debe ser un array de dos dimensiones\n",
        "X = social_df.drop(columns=\"Purchased\").values\n",
        "y = social_df[\"Purchased\"].values\n",
        "\n",
        "print(f\"La forma de X es {X.shape}\")\n",
        "print(f\"La forma de y es {y.shape}\")"
      ]
    },
    {
      "cell_type": "code",
      "execution_count": null,
      "metadata": {
        "id": "G7oVrZtYDP5f"
      },
      "outputs": [],
      "source": [
        "# Separamos el dataset en training y test\n",
        "from sklearn.model_selection import train_test_split\n",
        "\n",
        "# Usamos el argumento opcional para que se mantenga la proporcion en los conjuntos de entrenamiento y testeo.\n",
        "X_train, X_test, y_train, y_test = train_test_split(X, y, test_size=.3, random_state=42, stratify=y)\n",
        "\n",
        "# Vamos a escalar a todas la entradas para no tener problemas de escala en el modelo\n",
        "from sklearn.preprocessing import StandardScaler\n",
        "sc_X = StandardScaler()\n",
        "\n",
        "X_train = sc_X.fit_transform(X_train) # usamos fit para crear el escalado y aplicar conjunto de entrenamiento\n",
        "X_test = sc_X.transform(X_test) # solo hacemos el transform ya que fue escalado anteriormente"
      ]
    },
    {
      "cell_type": "markdown",
      "metadata": {
        "id": "DiX0IN1mDP5f"
      },
      "source": [
        "5. Determine que métrica se va a usar para evaluar la calidad de los modelos. Tenga en cuenta el balanceo de clases, y que objetivo se busca tener (por ejemplo, queremos predecir las mayor cantidad de personas que compran a expensas de tener falsos positivos o tener mucha seguridad a la hora de decir que una persona compra a expensa de tener falsos negativos).\n",
        "\n",
        "(OBS: Esta decisiones son tomadas para esta guia, pero ustedes pueden elegir otras metricas y decisiones)\n",
        "\n",
        "En nuestro caso nos interesa saber más quienes compran de los que no. No es que para nada importante los usuarios que no compran, pero nos importa más quienes, asi podemos determinar un perfil socioeconomico de los usuarios que compran le producto. Por lo que queremos que el modelo cuando diga que la persona compra, es muy seguro que si lo hace. Esto es porque asi podemos armar un buen perfil socioeconomico del mismo.\n",
        "\n",
        "Entonces, vamos a usar la matriz de confusión y el score F0.5 que le da mas pesos a la precision que a la recuperación.\n",
        "\n",
        "6. Construya un modelo de regresión logística, el cual se intente predecir si una persona compró el producto o no."
      ]
    },
    {
      "cell_type": "code",
      "execution_count": null,
      "metadata": {
        "id": "6XElP4_YDP5f",
        "colab": {
          "base_uri": "https://localhost:8080/"
        },
        "outputId": "da9320fc-271d-4b61-ad3e-8c7075eb86e6"
      },
      "outputs": [
        {
          "output_type": "stream",
          "name": "stdout",
          "text": [
            "F0.5-score: 0.792\n",
            "precision: 0.829\n",
            "Especificidad: 0.674\n"
          ]
        }
      ],
      "source": [
        "from sklearn.linear_model import LogisticRegression\n",
        "logistic = LogisticRegression(random_state = 0)\n",
        "\n",
        "# 1. Entrene el modelo con el set de entrenamiento.\n",
        "logistic.fit(X_train, y_train)\n",
        "\n",
        "# 2. Evalúe el modelo con la métrica de evaluación.\n",
        "from sklearn.metrics import confusion_matrix, ConfusionMatrixDisplay, fbeta_score, precision_score, recall_score\n",
        "\n",
        "y_pred = logistic.predict(X_test)\n",
        "precision = precision_score(y_test, y_pred)\n",
        "specificity = recall_score(y_test, y_pred)\n",
        "f0_5_logistic = fbeta_score(y_test, y_pred, zero_division=0, beta=0.5)\n",
        "\n",
        "print(f\"F0.5-score: {f0_5_logistic:.3f}\")\n",
        "print(f\"precision: {precision:.3f}\")\n",
        "print(f\"Especificidad: {specificity:.3f}\")"
      ]
    },
    {
      "cell_type": "code",
      "execution_count": null,
      "metadata": {
        "id": "V8eQjS9GDP5g",
        "colab": {
          "base_uri": "https://localhost:8080/",
          "height": 505
        },
        "outputId": "5d158bdb-9d25-4159-e12d-e35ab8860f18"
      },
      "outputs": [
        {
          "output_type": "display_data",
          "data": {
            "text/plain": [
              "<Figure size 600x600 with 2 Axes>"
            ],
            "image/png": "[encoded data removed]"
          },
          "metadata": {}
        }
      ],
      "source": [
        "cm_logistic = confusion_matrix(y_test, logistic.predict(X_test))\n",
        "\n",
        "disp = ConfusionMatrixDisplay(confusion_matrix=cm_logistic,\n",
        "                              display_labels=logistic.classes_)\n",
        "\n",
        "fig, ax = plt.subplots(figsize=(6,6))\n",
        "ax.grid(False)\n",
        "disp.plot(ax=ax)\n",
        "ax.set_title(\"Clasificador logistico\");"
      ]
    },
    {
      "cell_type": "markdown",
      "source": [
        "(Opcional) Cree una curva ROC para evaluar el modelo para ver la calidad del modelo, sin depender del valor umbral. Elija un valor umbral que considere más optimo (usando AUC) y vuelva a clasificar usando ese valor.\n",
        "\n",
        "Este punto no lo realizamos ya que es opcional. Si lo hacen, tienen mas puntos, pero sin ayuda en este caso"
      ],
      "metadata": {
        "id": "mmMcQ2rRP1p7"
      }
    },
    {
      "cell_type": "code",
      "source": [
        "from sklearn.metrics import roc_curve, auc\n",
        "\n",
        "# Obtenemos las probabilidades predichas\n",
        "probs = logistic.predict_proba(X_test)\n",
        "\n",
        "# Creamos la curva ROC\n",
        "fpr, tpr, thresholds = roc_curve(y_test, probs[:, 1])\n",
        "\n",
        "# Calculamos el AUC\n",
        "auc = auc(fpr, tpr)\n",
        "\n",
        "# Graficamos la curva ROC\n",
        "plt.plot(fpr, tpr)\n",
        "plt.xlabel(\"1 - Especificidad\")\n",
        "plt.ylabel(\"Sensibilidad\")\n",
        "plt.title(\"Curva ROC\")\n",
        "plt.show()"
      ],
      "metadata": {
        "colab": {
          "base_uri": "https://localhost:8080/",
          "height": 480
        },
        "id": "T4ecFz8WP5ia",
        "outputId": "0a10f093-1113-4e31-d751-67682354144a"
      },
      "execution_count": null,
      "outputs": [
        {
          "output_type": "display_data",
          "data": {
            "text/plain": [
              "<Figure size 640x480 with 1 Axes>"
            ],
            "image/png": "[encoded data removed]"
          },
          "metadata": {}
        }
      ]
    },
    {
      "cell_type": "markdown",
      "metadata": {
        "id": "OhmsgHDSDP5g"
      },
      "source": [
        "\n",
        "7. Construya un modelo de KNN, el cual se intente predecir si una persona compró el producto o no."
      ]
    },
    {
      "cell_type": "code",
      "execution_count": null,
      "metadata": {
        "id": "rfUw81QhDP5g",
        "colab": {
          "base_uri": "https://localhost:8080/"
        },
        "outputId": "53be8569-2593-4201-dc76-e1cb91edbf7c"
      },
      "outputs": [
        {
          "output_type": "stream",
          "name": "stdout",
          "text": [
            "F0.5-score de KNN con 1 vecino: 0.8454106280193237\n",
            "F0.5-score de KNN con 3 vecinos: 0.8604651162790697\n",
            "F0.5-score de KNN con 5 vecinos: 0.8744394618834082\n",
            "F0.5-score de KNN con 13 vecinos: 0.8675799086757993\n",
            "Precisión de KNN con 5 vecinos:: 0.8666666666666667\n",
            "Especificidad de KNN con 5 vecinos:: 0.9069767441860465\n"
          ]
        }
      ],
      "source": [
        "# 1. Este modelo se debe definir el numero de vecinos. Cree 4 modelos con K = 1, 3, 5 y 13\n",
        "from sklearn.neighbors import KNeighborsClassifier\n",
        "\n",
        "# Elegimos la distancia euclideana\n",
        "classifier_knn_1 = KNeighborsClassifier(n_neighbors=1, metric=\"euclidean\")\n",
        "classifier_knn_3 = KNeighborsClassifier(n_neighbors=3, metric=\"euclidean\")\n",
        "classifier_knn_5 = KNeighborsClassifier(n_neighbors=5, metric=\"euclidean\")\n",
        "classifier_knn_13 = KNeighborsClassifier(n_neighbors=13, metric=\"euclidean\")\n",
        "\n",
        "# 2. Entrene los modelos con el set de entrenamiento.\n",
        "classifier_knn_1.fit(X_train, y_train)\n",
        "classifier_knn_3.fit(X_train, y_train)\n",
        "classifier_knn_5.fit(X_train, y_train)\n",
        "classifier_knn_13.fit(X_train, y_train)\n",
        "\n",
        "# 3. Evalúe los modelos con la métrica de evaluación.\n",
        "y_pred_knn_1 = classifier_knn_1.predict(X_test)\n",
        "y_pred_knn_3 = classifier_knn_3.predict(X_test)\n",
        "y_pred_knn_5 = classifier_knn_5.predict(X_test)\n",
        "y_pred_knn_13 = classifier_knn_13.predict(X_test)\n",
        "\n",
        "f0_5_knn_1 = fbeta_score(y_test, y_pred_knn_1, zero_division=0, beta=0.5)\n",
        "f0_5_knn_3 = fbeta_score(y_test, y_pred_knn_3, zero_division=0, beta=0.5)\n",
        "f0_5_knn_5 = fbeta_score(y_test, y_pred_knn_5, zero_division=0, beta=0.5)\n",
        "f0_5_knn_13 = fbeta_score(y_test, y_pred_knn_13, zero_division=0, beta=0.5)\n",
        "\n",
        "\n",
        "\n",
        "print(f\"F0.5-score de KNN con 1 vecino: {f0_5_knn_1}\")\n",
        "print(f\"F0.5-score de KNN con 3 vecinos: {f0_5_knn_3}\")\n",
        "print(f\"F0.5-score de KNN con 5 vecinos: {f0_5_knn_5}\")\n",
        "print(f\"F0.5-score de KNN con 13 vecinos: {f0_5_knn_13}\")\n",
        "\n",
        "\n",
        "precision = precision_score(y_test, y_pred_knn_5)\n",
        "specificity = recall_score(y_test, y_pred_knn_5)\n",
        "print(\"Precisión de KNN con 5 vecinos::\", precision)\n",
        "print(\"Especificidad de KNN con 5 vecinos::\", specificity)"
      ]
    },
    {
      "cell_type": "markdown",
      "metadata": {
        "id": "gVM52Nc8DP5g"
      },
      "source": [
        "Vemos que el mejor modelo de los cuatro es el de 5 vecinos. Obtengamos la matriz de confusión de este modelo."
      ]
    },
    {
      "cell_type": "code",
      "execution_count": null,
      "metadata": {
        "id": "wB4PVWHnDP5g",
        "colab": {
          "base_uri": "https://localhost:8080/",
          "height": 505
        },
        "outputId": "a6f0f2fb-a4a8-4f71-9e8c-5f67a3ad8b53"
      },
      "outputs": [
        {
          "output_type": "display_data",
          "data": {
            "text/plain": [
              "<Figure size 600x600 with 2 Axes>"
            ],
            "image/png": "[encoded data removed]"
          },
          "metadata": {}
        }
      ],
      "source": [
        "cm_knn = confusion_matrix(y_test, y_pred_knn_5)\n",
        "\n",
        "disp = ConfusionMatrixDisplay(confusion_matrix=cm_knn,\n",
        "                             display_labels=classifier_knn_5.classes_)\n",
        "\n",
        "\n",
        "fig, ax = plt.subplots(figsize=(6,6))\n",
        "ax.grid(False)\n",
        "disp.plot(ax=ax)\n",
        "ax.set_title(\"Clasificador KNN de 5 vecinos\");"
      ]
    },
    {
      "cell_type": "markdown",
      "metadata": {
        "id": "auJTJPIwDP5g"
      },
      "source": [
        "5. Compare el mejor modelo de regresión logistica y el mejor modelo de KNN. Cual fue el mejor modelo? Discuta los resultados.\n",
        "\n",
        "El modelo KNN es mas preciso ya que es capaz de predecir  correctamente el 87.44% de las instancias negativas. El modelo KNN es un modelo no lineas que predoce la clases de una instancia en funcion a las clases de las instancias más cercanas\n"
      ]
    }
  ],
  "metadata": {
    "kernelspec": {
      "display_name": "notebook_env_python3_11",
      "language": "python",
      "name": "python3"
    },
    "language_info": {
      "codemirror_mode": {
        "name": "ipython",
        "version": 3
      },
      "file_extension": ".py",
      "mimetype": "text/x-python",
      "name": "python",
      "nbconvert_exporter": "python",
      "pygments_lexer": "ipython3",
      "version": "3.11.6"
    },
    "colab": {
      "provenance": []
    }
  },
  "nbformat": 4,
  "nbformat_minor": 0
}