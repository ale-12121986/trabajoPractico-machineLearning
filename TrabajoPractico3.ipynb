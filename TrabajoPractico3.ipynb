{
  "cells": [
    {
      "cell_type": "code",
      "execution_count": null,
      "metadata": {
        "id": "_ZiZtPkCMe8D"
      },
      "outputs": [],
      "source": [
        "import pandas as pd\n",
        "import numpy as np\n",
        "import matplotlib.pyplot as plt\n",
        "import seaborn as sns\n",
        "sns.set()"
      ]
    },
    {
      "cell_type": "markdown",
      "metadata": {
        "id": "aQmHxuMWMe8I"
      },
      "source": [
        "# Resolvemos los ejercicios de TP1 y TP2 usando árboles de decisión\n",
        "\n",
        "\n",
        "## TP1 - Regresión de calidad de vino portugués \"Vinho Verde\"\n",
        "\n",
        "En el TP1 se trabajó con un dataset de vinos portugués \"Vinho Verde\" en la variante tinta. Se cuenta con variables fisicoquímicas (entradas) y un puntaje de clasificación de tipo de vino. El análisis lo hicimos en el TP1, aquí vamos a ir directamente a implementar el modelo.\n",
        "\n",
        "Por lo que primero leemos el dataset y preparamos todo, igual que en el TP1."
      ]
    },
    {
      "cell_type": "code",
      "execution_count": null,
      "metadata": {
        "colab": {
          "base_uri": "https://localhost:8080/"
        },
        "id": "gyV_vJ5CMe8M",
        "outputId": "cdf24567-690a-446a-8895-3432091a034a"
      },
      "outputs": [
        {
          "output_type": "stream",
          "name": "stdout",
          "text": [
            "La forma de X es (1599, 11)\n",
            "La forma de y es (1599,)\n"
          ]
        }
      ],
      "source": [
        "# Leemos el dataset\n",
        "wine_df = pd.read_csv(\"winequality-red.csv\")\n",
        "# Obtenemos a X e y.\n",
        "# Para X usamos todas las columnas menos el target\n",
        "X = wine_df.drop(columns=\"quality\")\n",
        "y = wine_df[\"quality\"]\n",
        "\n",
        "print(f\"La forma de X es {X.shape}\")\n",
        "print(f\"La forma de y es {y.shape}\")\n",
        "\n",
        "# Separamos el dataset en training y test\n",
        "from sklearn.model_selection import train_test_split\n",
        "\n",
        "# Como no hay una buena distribucion de valores entre las calidades de vino, usamos el argumento opcional\n",
        "# para que se mantenga la proporcion en los conjuntos de entrenamiento y testeo.\n",
        "X_train, X_test, y_train, y_test = train_test_split(X, y, test_size=0.2, random_state=42, stratify=y)\n",
        "\n",
        "# Como estamos trabajando con arboles, no vamos a realizar ninguna normalización\n",
        "\n",
        "# Cargamos las metricas de evaluación que usamos en el TP1\n",
        "from sklearn.metrics import r2_score, mean_absolute_error"
      ]
    },
    {
      "cell_type": "markdown",
      "metadata": {
        "id": "WWUEjAn5Me8N"
      },
      "source": [
        "Ya con el dataset leido y separado el entrenamiento y validación, podemos a realizar el entrenamiento.\n",
        "\n",
        "Antes de entrenar el modelo, vamos a realizar una busqueda de hiperparametros. Vamos a usar una validación cruzada de 5 folds y una busqueda de grilla.\n",
        "\n",
        "Para este caso vamos usar el podado de arboles, usando el coeficiente alpha (la busqueda tambien se podria haber hecho jugando con niveles del arbol o cantidad de muestra por hoja)."
      ]
    },
    {
      "cell_type": "code",
      "execution_count": null,
      "metadata": {
        "id": "_MglqhMkMe8N"
      },
      "outputs": [],
      "source": [
        "# Llamamos a GridSearch de sklearn\n",
        "from sklearn.model_selection import GridSearchCV, StratifiedKFold"
      ]
    },
    {
      "cell_type": "code",
      "execution_count": null,
      "metadata": {
        "id": "yiIpI8-vMe8O"
      },
      "outputs": [],
      "source": [
        "# Creamos el modelo base para buscar los hiperparametros\n",
        "from sklearn.tree import DecisionTreeRegressor\n",
        "\n",
        "# Creamos el arbol\n",
        "reg_tree = DecisionTreeRegressor(criterion='squared_error', splitter='best',\n",
        "                max_depth=None, min_samples_split=2, min_samples_leaf=1)"
      ]
    },
    {
      "cell_type": "code",
      "execution_count": null,
      "metadata": {
        "colab": {
          "base_uri": "https://localhost:8080/"
        },
        "id": "XIY7sOCvMe8O",
        "outputId": "ef7c7874-50d0-4910-da99-86d53ce99154"
      },
      "outputs": [
        {
          "output_type": "stream",
          "name": "stdout",
          "text": [
            "{'ccp_alpha': 0.0}\n"
          ]
        }
      ],
      "source": [
        "# Hacemos la busqueda de grilla\n",
        "grid_wine = GridSearchCV(reg_tree,\n",
        "                         {\"ccp_alpha\": np.linspace(0, 100, 1001)},\n",
        "                         refit=True,\n",
        "                         cv=StratifiedKFold(n_splits=5, shuffle=True),\n",
        "                         scoring='neg_mean_absolute_error',\n",
        "                         n_jobs=-1)\n",
        "grid_wine.fit(X_train,y_train)\n",
        "\n",
        "# El mejor valor de hiperparametros es:\n",
        "print(grid_wine.best_params_)"
      ]
    },
    {
      "cell_type": "markdown",
      "metadata": {
        "id": "kQxEoLK_Me8P"
      },
      "source": [
        "Nos quedamos con el mejor modelo elegido en nuestra búsqueda."
      ]
    },
    {
      "cell_type": "code",
      "execution_count": null,
      "metadata": {
        "id": "zLvbnIGwMe8P"
      },
      "outputs": [],
      "source": [
        "best_tree_wine = grid_wine.best_estimator_"
      ]
    },
    {
      "cell_type": "markdown",
      "metadata": {
        "id": "HcCl1CzZMe8Q"
      },
      "source": [
        "Ya elegido el mejor modelo, vamos a entrenar y evaluar el modelo."
      ]
    },
    {
      "cell_type": "code",
      "execution_count": null,
      "metadata": {
        "colab": {
          "base_uri": "https://localhost:8080/"
        },
        "id": "V31JG7OuMe8Q",
        "outputId": "4825549c-c060-4035-beff-b04cff677795"
      },
      "outputs": [
        {
          "output_type": "stream",
          "name": "stdout",
          "text": [
            "El mejor arbol tuvo un coeficiente ajuste igual a 0.15249107088806835\n",
            "El mejor arbol tuvo un MAE de 0.403125\n"
          ]
        }
      ],
      "source": [
        "# Entrenamos al modelo\n",
        "best_tree_wine.fit(X_train, y_train)\n",
        "\n",
        "# Evaluamos el modelo\n",
        "y_pred =best_tree_wine.predict(X_test)\n",
        "rsquare_tree = r2_score(y_test, y_pred)\n",
        "mae_tree = mean_absolute_error(y_test, y_pred)\n",
        "\n",
        "print(f\"El mejor arbol tuvo un coeficiente ajuste igual a {rsquare_tree}\")\n",
        "print(f\"El mejor arbol tuvo un MAE de {mae_tree}\")"
      ]
    },
    {
      "cell_type": "markdown",
      "metadata": {
        "id": "E-l69TKlMe8R"
      },
      "source": [
        "Comparando los modelos que realizaos:\n",
        "\n",
        "- Modelo de regresion lineal\n",
        "- Modelo de regresión multiple\n",
        "- Arbol de decisión\n",
        "\n",
        "Las metricas que obtuvimos son:\n",
        "\n",
        "| Modelo              |  MAE  |  R2   |\n",
        "|---------------------|-------|-------|\n",
        "| Regresión lineal    | 0.579 | 0.207 |\n",
        "| Regresión multiple  | 0.495 | 0.370 |\n",
        "| Arbol de decisión   | 0.403 | 0.152 |\n",
        "\n",
        "Parte de la información con la que se llenó la tabla anterior fue proporcionado por el trabajo practico 1, tanto los de regresión lineas como regresión multiple.\n",
        "\n",
        "En función a estos resultados y complejidad de los modelos, discutir cual es el mejor modelo."
      ]
    },
    {
      "cell_type": "markdown",
      "metadata": {
        "id": "01KzM2xgMe8R"
      },
      "source": [
        "## TP2 - Clasificación de usuarios en campaña de red social\n",
        "\n",
        "En el TP2 se trabajó con un dataset de publicidad que lanzó una campaña de publicidad en una red social. Se cuenta con datos de la persona tales como `genero`, `edad` y `salario estimado`. Además se registró si el usuario luego compró el producto que la publicidad hacía referencia.\n",
        "\n",
        "Por lo que primero leemos el dataset y preparamos todo, igual que en el TP2."
      ]
    },
    {
      "cell_type": "code",
      "execution_count": null,
      "metadata": {
        "colab": {
          "base_uri": "https://localhost:8080/"
        },
        "id": "X5CC71QAMe8R",
        "outputId": "3fe2bf76-1d71-49e7-c14b-f74161ac0dc3"
      },
      "outputs": [
        {
          "output_type": "stream",
          "name": "stdout",
          "text": [
            "La forma de X es (400, 3)\n",
            "La forma de y es (400,)\n"
          ]
        }
      ],
      "source": [
        "# Leemos el dataset\n",
        "social_df = pd.read_csv(\"Social_Network_Ads.csv\")\n",
        "\n",
        "# Dropeamos la columna que identifica a los usuarios\n",
        "social_df.drop(columns=\"User ID\", inplace=True)\n",
        "\n",
        "# Generamos dummies para genero\n",
        "social_df = pd.get_dummies(social_df, columns=[\"Gender\"], drop_first=True)\n",
        "\n",
        "# Obtenemos a X e y.\n",
        "# Para X usamos todas las columnas menos el target\n",
        "X = social_df[[\"Age\", \"EstimatedSalary\", \"Gender_Male\"]]\n",
        "y = social_df[\"Purchased\"]\n",
        "\n",
        "print(f\"La forma de X es {X.shape}\")\n",
        "print(f\"La forma de y es {y.shape}\")\n",
        "\n",
        "# Separamos el dataset en training y test\n",
        "from sklearn.model_selection import train_test_split\n",
        "\n",
        "X_train, X_test, y_train, y_test = train_test_split(X, y, test_size=.3,\n",
        "                                                    random_state=42, stratify=y)\n",
        "\n",
        "# Como estamos trabajando con arboles, no vamos a realizar ninguna normalización\n",
        "\n",
        "# Cargamos las metricas de evaluación que usamos en el TP2\n",
        "from sklearn.metrics import confusion_matrix, ConfusionMatrixDisplay, fbeta_score"
      ]
    },
    {
      "cell_type": "markdown",
      "metadata": {
        "id": "JT-EuWD_Me8R"
      },
      "source": [
        "Ya con el dataset leído y separado el entrenamiento y validación, podemos a realizar el entrenamiento.\n",
        "\n",
        "Antes de entrenar el modelo, vamos a realizar una búsqueda de hiperparametros. Vamos a usar una validación cruzada de 5 folds y una búsqueda de grilla.\n",
        "\n",
        "Para este caso vamos usar el podado de árboles, usando el coeficiente alpha (ccp_alpha). Además vamos a buscar el mejor criterio (Índice de Gini o Entropía)."
      ]
    },
    {
      "cell_type": "code",
      "execution_count": null,
      "metadata": {
        "id": "fwZiLgDkMe8S"
      },
      "outputs": [],
      "source": [
        "# Creamos el modelo base para buscar los hiperparametros\n",
        "from sklearn.tree import DecisionTreeClassifier\n",
        "from sklearn.metrics import confusion_matrix, ConfusionMatrixDisplay, fbeta_score, precision_score, recall_score\n",
        "# Creamos el arbol\n",
        "clas_tree = DecisionTreeClassifier(splitter='best', max_depth=None, min_samples_split=2,\n",
        "                 min_samples_leaf=1)"
      ]
    },
    {
      "cell_type": "code",
      "execution_count": null,
      "metadata": {
        "colab": {
          "base_uri": "https://localhost:8080/"
        },
        "id": "Q_Y8W9PHMe8S",
        "outputId": "84e4cfa2-3333-4cfc-80f9-ff000a7ded55"
      },
      "outputs": [
        {
          "output_type": "stream",
          "name": "stdout",
          "text": [
            "{'ccp_alpha': 0.1, 'criterion': 'gini'}\n"
          ]
        }
      ],
      "source": [
        "# Hacemos la busqueda de grilla, como no podemos usar f0.5, vamos a usar a f1\n",
        "grid_social = GridSearchCV(clas_tree,\n",
        "                   {\"ccp_alpha\": np.linspace(0, 100, 1001),\n",
        "                    \"criterion\": [\"gini\", \"entropy\"]},\n",
        "                    refit=True,\n",
        "                    cv=StratifiedKFold(n_splits=5, shuffle=True),\n",
        "                    scoring='f1',\n",
        "                    n_jobs=-1)\n",
        "grid_social.fit(X_train,y_train)\n",
        "\n",
        "# El mejor valor de hiperparametros es:\n",
        "print(grid_social.best_params_)"
      ]
    },
    {
      "cell_type": "markdown",
      "metadata": {
        "id": "faXUMlU4Me8S"
      },
      "source": [
        "Nos quedamos con el mejor modelo elegido en nuestra búsqueda."
      ]
    },
    {
      "cell_type": "code",
      "execution_count": null,
      "metadata": {
        "id": "su1FofRAMe8T"
      },
      "outputs": [],
      "source": [
        "best_tree_social = grid_social.best_estimator_"
      ]
    },
    {
      "cell_type": "markdown",
      "metadata": {
        "id": "D7v-mXWLMe8T"
      },
      "source": [
        "Ya elegido el mejor modelo, vamos a entrenar y evaluar el modelo."
      ]
    },
    {
      "cell_type": "code",
      "execution_count": null,
      "metadata": {
        "colab": {
          "base_uri": "https://localhost:8080/"
        },
        "id": "dUfAgOnEMe8T",
        "outputId": "8edb209b-5691-443a-be1a-7baf89ba2a7d"
      },
      "outputs": [
        {
          "output_type": "stream",
          "name": "stdout",
          "text": [
            "El mejor arbol tuvo un f0.5 de 0.844155844155844\n",
            "precision: 0.830\n",
            "Especificidad: 0.907\n"
          ]
        }
      ],
      "source": [
        "# Entrenamos al modelo\n",
        "best_tree_social.fit(X_train, y_train)\n",
        "\n",
        "# Evaluamos el modelo\n",
        "y_pred = best_tree_social.predict(X_test)\n",
        "cm_tree = confusion_matrix(y_test, y_pred)\n",
        "f0_5_tree =fbeta_score(y_test, y_pred, zero_division=0, beta=0.5)\n",
        "precision = precision_score(y_test, y_pred)\n",
        "specificity = recall_score(y_test, y_pred)\n",
        "\n",
        "print(f\"El mejor arbol tuvo un f0.5 de {f0_5_tree}\")\n",
        "print(f\"precision: {precision:.3f}\")\n",
        "print(f\"Especificidad: {specificity:.3f}\")"
      ]
    },
    {
      "cell_type": "code",
      "execution_count": null,
      "metadata": {
        "colab": {
          "base_uri": "https://localhost:8080/",
          "height": 505
        },
        "id": "wTgC1bAQMe8T",
        "outputId": "fdb2d81a-1ccb-40bc-e9e4-91a12b20c785"
      },
      "outputs": [
        {
          "output_type": "display_data",
          "data": {
            "text/plain": [
              "<Figure size 600x600 with 2 Axes>"
            ],
            "image/png": "[encoded data removed]"
          },
          "metadata": {}
        }
      ],
      "source": [
        "disp = ConfusionMatrixDisplay(confusion_matrix=cm_tree,\n",
        "                              display_labels=best_tree_social.classes_)\n",
        "\n",
        "fig, ax = plt.subplots(figsize=(6,6))\n",
        "ax.grid(False)\n",
        "disp.plot(ax=ax)\n",
        "ax.set_title(\"Clasificador arbol\");"
      ]
    },
    {
      "cell_type": "markdown",
      "metadata": {
        "id": "Wvh-5SCMMe8T"
      },
      "source": [
        "Comparando los modelos que realizamos:\n",
        "\n",
        "- Modelo de regresión logística\n",
        "- Modelo kNN\n",
        "- Árbol de decisión\n",
        "\n",
        "Las métricas que obtuvimos son:\n",
        "\n",
        "| Modelo              |  F0.5 | Precisión | Especificidad |\n",
        "|---------------------|-------|-----------|---------------|\n",
        "| Regresión logistica | 0.792 |   0.829   |     0.674     |\n",
        "| kNN                 | 0.874 |   0.866   |     0.906     |\n",
        "| Arbol de decisión   | 0.884 |   0.830   |     0.907     |\n",
        "\n",
        "Los valores de la tabla se obtuvieron del trabajo practico 2 tanto los valores de regresión logistica como KNN\n",
        "En función a estos resultados y complejidad de los modelos, discutir cual es el mejor modelo."
      ]
    }
  ],
  "metadata": {
    "kernelspec": {
      "display_name": "notebook_env_python3_11",
      "language": "python",
      "name": "python3"
    },
    "language_info": {
      "codemirror_mode": {
        "name": "ipython",
        "version": 3
      },
      "file_extension": ".py",
      "mimetype": "text/x-python",
      "name": "python",
      "nbconvert_exporter": "python",
      "pygments_lexer": "ipython3",
      "version": "3.11.6"
    },
    "colab": {
      "provenance": []
    }
  },
  "nbformat": 4,
  "nbformat_minor": 0
}